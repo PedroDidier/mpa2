{
 "cells": [
  {
   "cell_type": "markdown",
   "metadata": {},
   "source": [
    "# Atividade RF1.1.1"
   ]
  },
  {
   "cell_type": "markdown",
   "metadata": {},
   "source": [
    "Carregar logs no formato .csv com a identificação da coluna correspondente ao: Identificador do caso (demanda); Atividade; Recurso; Data de início da atividade; Data de fim da atividade; Cliente; Tipo de demanda"
   ]
  },
  {
   "cell_type": "code",
   "execution_count": 3,
   "metadata": {},
   "outputs": [],
   "source": [
    "import os\n",
    "\n",
    "import pm4py\n",
    "import pandas as pd"
   ]
  },
  {
   "cell_type": "markdown",
   "metadata": {},
   "source": [
    "## Importando o dataset"
   ]
  },
  {
   "cell_type": "code",
   "execution_count": 8,
   "metadata": {},
   "outputs": [
    {
     "data": {
      "text/html": [
       "<div>\n",
       "<style scoped>\n",
       "    .dataframe tbody tr th:only-of-type {\n",
       "        vertical-align: middle;\n",
       "    }\n",
       "\n",
       "    .dataframe tbody tr th {\n",
       "        vertical-align: top;\n",
       "    }\n",
       "\n",
       "    .dataframe thead th {\n",
       "        text-align: right;\n",
       "    }\n",
       "</style>\n",
       "<table border=\"1\" class=\"dataframe\">\n",
       "  <thead>\n",
       "    <tr style=\"text-align: right;\">\n",
       "      <th></th>\n",
       "      <th>tarefa</th>\n",
       "      <th>dt_inicio</th>\n",
       "      <th>demanda_id</th>\n",
       "      <th>cliente</th>\n",
       "      <th>tp_demanda</th>\n",
       "      <th>dt_fim</th>\n",
       "    </tr>\n",
       "  </thead>\n",
       "  <tbody>\n",
       "    <tr>\n",
       "      <th>0</th>\n",
       "      <td>Estimar_Tamanho</td>\n",
       "      <td>2021-04-26 18:06:40</td>\n",
       "      <td>261</td>\n",
       "      <td>cliente1</td>\n",
       "      <td>evolutiva</td>\n",
       "      <td>2021-04-28 12:10:06</td>\n",
       "    </tr>\n",
       "    <tr>\n",
       "      <th>1</th>\n",
       "      <td>Validar_Requisitos</td>\n",
       "      <td>2021-04-26 18:11:42</td>\n",
       "      <td>261</td>\n",
       "      <td>cliente1</td>\n",
       "      <td>evolutiva</td>\n",
       "      <td>2021-04-28 01:56:57</td>\n",
       "    </tr>\n",
       "    <tr>\n",
       "      <th>2</th>\n",
       "      <td>Projetar_Arquitetura</td>\n",
       "      <td>2021-04-26 18:16:45</td>\n",
       "      <td>261</td>\n",
       "      <td>cliente1</td>\n",
       "      <td>evolutiva</td>\n",
       "      <td>2021-04-27 17:33:12</td>\n",
       "    </tr>\n",
       "    <tr>\n",
       "      <th>3</th>\n",
       "      <td>Projetar_Modelo_Dados</td>\n",
       "      <td>2021-04-26 18:21:46</td>\n",
       "      <td>261</td>\n",
       "      <td>cliente1</td>\n",
       "      <td>evolutiva</td>\n",
       "      <td>2021-04-30 13:58:17</td>\n",
       "    </tr>\n",
       "    <tr>\n",
       "      <th>4</th>\n",
       "      <td>Fisicalizar_Modelo_Dados</td>\n",
       "      <td>2021-04-26 18:26:47</td>\n",
       "      <td>261</td>\n",
       "      <td>cliente1</td>\n",
       "      <td>evolutiva</td>\n",
       "      <td>2021-04-30 14:33:04</td>\n",
       "    </tr>\n",
       "  </tbody>\n",
       "</table>\n",
       "</div>"
      ],
      "text/plain": [
       "                     tarefa            dt_inicio  demanda_id   cliente  \\\n",
       "0           Estimar_Tamanho  2021-04-26 18:06:40         261  cliente1   \n",
       "1        Validar_Requisitos  2021-04-26 18:11:42         261  cliente1   \n",
       "2      Projetar_Arquitetura  2021-04-26 18:16:45         261  cliente1   \n",
       "3     Projetar_Modelo_Dados  2021-04-26 18:21:46         261  cliente1   \n",
       "4  Fisicalizar_Modelo_Dados  2021-04-26 18:26:47         261  cliente1   \n",
       "\n",
       "  tp_demanda               dt_fim  \n",
       "0  evolutiva  2021-04-28 12:10:06  \n",
       "1  evolutiva  2021-04-28 01:56:57  \n",
       "2  evolutiva  2021-04-27 17:33:12  \n",
       "3  evolutiva  2021-04-30 13:58:17  \n",
       "4  evolutiva  2021-04-30 14:33:04  "
      ]
     },
     "execution_count": 8,
     "metadata": {},
     "output_type": "execute_result"
    }
   ],
   "source": [
    "log_file_path = \"../data/log_2_geral_datas_distribuidas.csv\"\n",
    "\n",
    "df = pd.read_csv(log_file_path, encoding = \"utf-8\")\n",
    "df.head()"
   ]
  },
  {
   "cell_type": "markdown",
   "metadata": {},
   "source": [
    "## Adaptando nome das colunas para evidenciar o que é o que"
   ]
  },
  {
   "cell_type": "code",
   "execution_count": 9,
   "metadata": {},
   "outputs": [],
   "source": [
    "df = df.rename(columns={\"tarefa\" : \"concept:tarefa\",\n",
    "                        \"dt_inicio\" : \"time:inicio\",\n",
    "                        \"demanda_id\" : \"case:concept:demanda_id\",\n",
    "                        \"cliente\" : \"case:cliente\",\n",
    "                        \"tp_demanda\" : \"tp_demanda\",\n",
    "                        \"dt_fim\" : \"dt_fim\"})"
   ]
  },
  {
   "cell_type": "markdown",
   "metadata": {},
   "source": [
    "## Carregando DataFrame no PM4PY"
   ]
  },
  {
   "cell_type": "code",
   "execution_count": 10,
   "metadata": {},
   "outputs": [],
   "source": [
    "df = pm4py.format_dataframe(df, case_id='case:concept:demanda_id', \n",
    "                                activity_key='concept:tarefa', \n",
    "                                timestamp_key='time:inicio')\n",
    "\n",
    "log = pm4py.convert_to_event_log(df) # Transformando em log"
   ]
  }
 ],
 "metadata": {
  "kernelspec": {
   "display_name": "Python 3.9.13 64-bit (windows store)",
   "language": "python",
   "name": "python3"
  },
  "language_info": {
   "codemirror_mode": {
    "name": "ipython",
    "version": 3
   },
   "file_extension": ".py",
   "mimetype": "text/x-python",
   "name": "python",
   "nbconvert_exporter": "python",
   "pygments_lexer": "ipython3",
   "version": "3.9.13"
  },
  "orig_nbformat": 4,
  "vscode": {
   "interpreter": {
    "hash": "8d5fb20d14ea3c2b15c0bbb408736c46f414a9f4cd79d207c0784c0795d523d0"
   }
  }
 },
 "nbformat": 4,
 "nbformat_minor": 2
}
